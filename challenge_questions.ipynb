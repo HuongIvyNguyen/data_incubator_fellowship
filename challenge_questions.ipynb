{
 "cells": [
  {
   "cell_type": "markdown",
   "metadata": {},
   "source": [
    "### Question 1: \n",
    "\n",
    "Coins with values 1 through N (inclusive) are placed into a bag. All the coins from the bag are iteratively drawn (without replacement) at random. For the first coin, you are paid the value of the coin. For subsequent coins, you are paid the absolute difference between the drawn coin and the previously drawn coin. For example, if you drew 5,3,2,4,1 your payments would be 5,2,1,2,3 for a total payment of 13."
   ]
  },
  {
   "cell_type": "code",
   "execution_count": 1,
   "metadata": {
    "collapsed": false
   },
   "outputs": [
    {
     "name": "stdout",
     "output_type": "stream",
     "text": [
      "The mean of N=10 is 38.5 and the standard deviation of N=10 is 6.36527035299\n",
      "The probability to obtain payments that are >=45 for N=10 is 0.181795634921\n"
     ]
    }
   ],
   "source": [
    "import random\n",
    "import numpy as np\n",
    "import itertools\n",
    "\n",
    "def total_payment(n, a):\n",
    "    payments = []\n",
    "    pass_payments = []\n",
    "    num = list(range(1,n+1))\n",
    "    num_bags = list(itertools.permutations(num))\n",
    "    for bag in num_bags:\n",
    "        bag = list(bag)\n",
    "        payment = []\n",
    "        payment.append(bag[0])\n",
    "        for i in range(1, n):\n",
    "            p = abs(bag[i] - bag[i-1])\n",
    "            payment.append(p)\n",
    "        payments.append(sum(payment))\n",
    "        \n",
    "        if sum(payment) >= a:\n",
    "            pass_payments.append(payment)\n",
    "        \n",
    "            \n",
    "    return [np.mean(payments), np.std(payments), float(len(pass_payments))/float(len(payments))]\n",
    "\n",
    "a = total_payment(10,45)\n",
    "print \"The mean of N=10 is\", a[0], \"and the standard deviation of N=10 is\", a[1]\n",
    "print \"The probability to obtain payments that are >=45 for N=10 is\", a[2]"
   ]
  },
  {
   "cell_type": "code",
   "execution_count": 9,
   "metadata": {
    "collapsed": false
   },
   "outputs": [],
   "source": [
    "#Generate mean values, standard deviation values, and percentage of payments that is greater than 160\n",
    "mean_list = []\n",
    "std_list = []\n",
    "perc_list = []\n",
    "for i in range(1, 11):\n",
    "    results = total_payment(i, 45)\n",
    "    mean_list.append(results[0])\n",
    "    std_list.append(results[1])\n",
    "    perc_list.append(results[2])"
   ]
  },
  {
   "cell_type": "code",
   "execution_count": 8,
   "metadata": {
    "collapsed": false
   },
   "outputs": [
    {
     "data": {
      "text/plain": [
       "[38.5, 6.3652703529910388, 0.0]"
      ]
     },
     "execution_count": 8,
     "metadata": {},
     "output_type": "execute_result"
    }
   ],
   "source": [
    "total_payment(10,160)"
   ]
  },
  {
   "cell_type": "code",
   "execution_count": 3,
   "metadata": {
    "collapsed": false
   },
   "outputs": [
    {
     "data": {
      "image/png": "[encoded data removed]",
      "text/plain": [
       "<matplotlib.figure.Figure at 0x7fcf146c6750>"
      ]
     },
     "metadata": {},
     "output_type": "display_data"
    },
    {
     "name": "stdout",
     "output_type": "stream",
     "text": [
      "[38.5, 46.0, 54.166666666666671, 63.000000000000007, 72.500000000000014, 82.666666666666686, 93.500000000000028, 105.00000000000003, 117.1666666666667, 130.00000000000003, 143.50000000000003]\n"
     ]
    }
   ],
   "source": [
    "#Obtain mean difference list; then use linear relationship between N and the mean difference to get mean value for N=20\n",
    "mean_diff_list = []\n",
    "for i in range(1, 10):\n",
    "    mean_diff = mean_list[i]-mean_list[i-1]\n",
    "    mean_diff_list.append(mean_diff)\n",
    "\n",
    "#Generate scatter plot for N and mean difference, fit the plot to y=mx+b\n",
    "import matplotlib.pyplot as plt\n",
    "plt.scatter(x=range(1,10), y=mean_diff_list)\n",
    "\n",
    "fit = np.polyfit(range(1,10), mean_diff_list, 1)\n",
    "fit_fn = np.poly1d(fit)\n",
    "predict = fit_fn(range(1,10))\n",
    "\n",
    "#Plot prediction on the same plot as mean diff calculated\n",
    "plt.plot(range(1,10), predict)\n",
    "plt.show()\n",
    "\n",
    "#Obtain mean diff for up to 20\n",
    "mean_diff_upto20 = fit_fn(range(10,20))\n",
    "mean_upto20 = [a[0]]\n",
    "\n",
    "#Print out mean for N=20\n",
    "for i in range(len(mean_diff_upto20)):\n",
    "    next_mean = mean_upto20[i]+ mean_diff_upto20[i]\n",
    "    mean_upto20.append(next_mean)\n",
    "    \n",
    "print mean_upto20"
   ]
  },
  {
   "cell_type": "code",
   "execution_count": 10,
   "metadata": {
    "collapsed": false
   },
   "outputs": [
    {
     "data": {
      "image/png": "[encoded data removed]",
      "text/plain": [
       "<matplotlib.figure.Figure at 0x7fcf14df9810>"
      ]
     },
     "metadata": {},
     "output_type": "display_data"
    }
   ],
   "source": [
    "#Generate plot for std_list\n",
    "plt.scatter(x=range(1,11), y=std_list)\n",
    "plt.scatter(x=range(1,11), y=perc_list)\n",
    "plt.show()"
   ]
  },
  {
   "cell_type": "code",
   "execution_count": 11,
   "metadata": {
    "collapsed": false
   },
   "outputs": [
    {
     "name": "stdout",
     "output_type": "stream",
     "text": [
      "[0.0, 0.0, 0.0, 0.0, 0.0, 0.0, 0.0, 0.0, 0.0015873015873015873, 0.1817956349206349]\n"
     ]
    },
    {
     "data": {
      "text/plain": [
       "<matplotlib.collections.PathCollection at 0x7fcf14efcd10>"
      ]
     },
     "execution_count": 11,
     "metadata": {},
     "output_type": "execute_result"
    }
   ],
   "source": [
    "#Obtain percent difference list; then use linear relationship between N and the perc difference to get new percfor N=20\n",
    "perc_diff_list = []\n",
    "for i in range(1, 10):\n",
    "    perc_diff = perc_list[i]-perc_list[i-1]\n",
    "    perc_diff_list.append(perc_diff)\n",
    "\n",
    "print perc_list\n",
    "plt.scatter(x=range(1,10), y=perc_diff_list)"
   ]
  },
  {
   "cell_type": "markdown",
   "metadata": {},
   "source": [
    "### Question 2:\n",
    "\n",
    "The U.S. Department of Education released a publicly available dataset on academic institutions that contains information related to their academics, admission, cost, student demographics, etc. The data can be downloaded from the College Scorecard website. Please download the data and answer the questions below. You may find it helpful to refer to the documentation.\n",
    "\n",
    "NOTE: For the following questions, unless otherwise specified, use data from all years and consider satellite campuses as separate institutions. In other words, you should consider institutions with different 8 digit identification numbers, assigned by the U.S. Department of Education's Office of Postsecondary Education, separately."
   ]
  },
  {
   "cell_type": "code",
   "execution_count": null,
   "metadata": {
    "collapsed": true
   },
   "outputs": [],
   "source": []
  }
 ],
 "metadata": {
  "anaconda-cloud": {},
  "kernelspec": {
   "display_name": "Python 2",
   "language": "python",
   "name": "python2"
  },
  "language_info": {
   "codemirror_mode": {
    "name": "ipython",
    "version": 2
   },
   "file_extension": ".py",
   "mimetype": "text/x-python",
   "name": "python",
   "nbconvert_exporter": "python",
   "pygments_lexer": "ipython2",
   "version": "2.7.13"
  }
 },
 "nbformat": 4,
 "nbformat_minor": 1
}
